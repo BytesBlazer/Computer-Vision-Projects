{
  "cells": [
    {
      "cell_type": "code",
      "execution_count": null,
      "metadata": {
        "id": "fz2m_4udLdIk"
      },
      "outputs": [],
      "source": [
        "import os\n",
        "import numpy as np\n",
        "import matplotlib.pyplot as plt\n",
        "import tensorflow as tf\n",
        "from tensorflow.keras import layers\n",
        "from tensorflow.keras.utils import get_file\n",
        "from tensorflow.keras.models import Sequential, Model\n",
        "from tensorflow.keras.preprocessing.image import ImageDataGenerator\n",
        "from tensorflow.keras.applications import VGG16\n",
        "from tensorflow.keras.applications.vgg16 import preprocess_input"
      ]
    },
    {
      "cell_type": "code",
      "execution_count": null,
      "metadata": {
        "id": "vb63MQaxsxEV"
      },
      "outputs": [],
      "source": [
        "url = \"https://storage.googleapis.com/learning-datasets/horse-or-human.zip\"\n",
        "dataset = get_file(fname=\"horse-or-human.zip\", origin=url, extract=True, cache_dir=\".\")\n",
        "\n",
        "gene = ImageDataGenerator(rotation_range=0.2,\n",
        "                          zoom_range=0.2,\n",
        "                          horizontal_flip=True,\n",
        "                          validation_split=0.2,\n",
        "                          preprocessing_function=preprocess_input)"
      ]
    },
    {
      "cell_type": "code",
      "execution_count": null,
      "metadata": {
        "id": "0SsrL0Opsw_R",
        "colab": {
          "base_uri": "https://localhost:8080/"
        },
        "outputId": "eeb66910-d706-462e-d045-6739cb773df2"
      },
      "outputs": [
        {
          "output_type": "stream",
          "name": "stdout",
          "text": [
            "Found 822 images belonging to 2 classes.\n",
            "Found 205 images belonging to 2 classes.\n"
          ]
        }
      ],
      "source": [
        "train_data = gene.flow_from_directory(directory=\"datasets\",\n",
        "                                      target_size=(256, 256),\n",
        "                                      class_mode=\"categorical\",\n",
        "                                      shuffle=True,\n",
        "                                      seed=38,\n",
        "                                      subset=\"training\")\n",
        "\n",
        "test_data = gene.flow_from_directory(directory=\"datasets\",\n",
        "                                     target_size=(256, 256),\n",
        "                                     class_mode=\"categorical\",\n",
        "                                     shuffle=True,\n",
        "                                     seed=38,\n",
        "                                     subset=\"validation\")"
      ]
    },
    {
      "cell_type": "code",
      "execution_count": null,
      "metadata": {
        "id": "SRXB8XJkswx9"
      },
      "outputs": [],
      "source": [
        "vgg16 = VGG16(include_top=False, weights=\"imagenet\", input_shape=(256, 256, 3))\n",
        "vgg16.trainable = False"
      ]
    },
    {
      "cell_type": "code",
      "source": [
        "model = Sequential()\n",
        "\n",
        "model.add(vgg16)\n",
        "model.add(layers.GlobalAveragePooling2D())\n",
        "model.add(layers.Dense(64, activation=\"relu\"))\n",
        "model.add(layers.Dense(32, activation=\"relu\"))\n",
        "model.add(layers.Dense(2, activation=\"softmax\"))\n",
        "\n",
        "model.compile(optimizer=\"rmsprop\", loss=\"categorical_crossentropy\", metrics=[\"accuracy\"])"
      ],
      "metadata": {
        "id": "YGlKBlf3_dho"
      },
      "execution_count": null,
      "outputs": []
    },
    {
      "cell_type": "code",
      "source": [
        "history = model.fit(train_data, epochs=5)"
      ],
      "metadata": {
        "id": "tJkZecRbBXHU",
        "colab": {
          "base_uri": "https://localhost:8080/"
        },
        "outputId": "83be57fb-6d74-44a3-c3a9-6aed19c96e5e"
      },
      "execution_count": null,
      "outputs": [
        {
          "output_type": "stream",
          "name": "stdout",
          "text": [
            "Epoch 1/5\n",
            "26/26 [==============================] - 18s 615ms/step - loss: 0.0848 - accuracy: 0.9635\n",
            "Epoch 2/5\n",
            "26/26 [==============================] - 16s 612ms/step - loss: 0.0018 - accuracy: 1.0000\n",
            "Epoch 3/5\n",
            "26/26 [==============================] - 16s 627ms/step - loss: 3.9800e-04 - accuracy: 1.0000\n",
            "Epoch 4/5\n",
            "26/26 [==============================] - 16s 603ms/step - loss: 0.0106 - accuracy: 0.9964\n",
            "Epoch 5/5\n",
            "26/26 [==============================] - 16s 616ms/step - loss: 2.3796e-04 - accuracy: 1.0000\n"
          ]
        }
      ]
    },
    {
      "cell_type": "code",
      "source": [
        "model.evaluate(test_data)"
      ],
      "metadata": {
        "id": "TwgY5w8kCiWy",
        "colab": {
          "base_uri": "https://localhost:8080/"
        },
        "outputId": "0da63580-cac2-46ab-b032-f3cb3cb19e6b"
      },
      "execution_count": null,
      "outputs": [
        {
          "output_type": "stream",
          "name": "stdout",
          "text": [
            "7/7 [==============================] - 4s 517ms/step - loss: 0.0010 - accuracy: 1.0000\n"
          ]
        },
        {
          "output_type": "execute_result",
          "data": {
            "text/plain": [
              "[0.0010384464403614402, 1.0]"
            ]
          },
          "metadata": {},
          "execution_count": 15
        }
      ]
    },
    {
      "cell_type": "code",
      "source": [
        "images = []\n",
        "\n",
        "for directory in os.listdir(\"datasets\"):\n",
        "  for file in os.listdir(os.path.join(\"datasets\", directory)):\n",
        "    images.append(os.path.join(\"datasets\", directory, file))"
      ],
      "metadata": {
        "id": "DIDlSApHEAgB"
      },
      "execution_count": null,
      "outputs": []
    },
    {
      "cell_type": "code",
      "source": [
        "images = [tf.keras.utils.img_to_array(tf.keras.utils.load_img(img)) for img in images]"
      ],
      "metadata": {
        "id": "oPGID__tnGae"
      },
      "execution_count": null,
      "outputs": []
    },
    {
      "cell_type": "code",
      "source": [
        "images = tf.data.Dataset.from_tensor_slices(images)"
      ],
      "metadata": {
        "id": "7ve_cxD9pvW_"
      },
      "execution_count": null,
      "outputs": []
    },
    {
      "cell_type": "code",
      "source": [],
      "metadata": {
        "id": "Nsx7da6dpsN_"
      },
      "execution_count": null,
      "outputs": []
    }
  ],
  "metadata": {
    "accelerator": "GPU",
    "colab": {
      "provenance": []
    },
    "gpuClass": "standard",
    "kernelspec": {
      "display_name": "Python 3",
      "name": "python3"
    },
    "language_info": {
      "name": "python"
    }
  },
  "nbformat": 4,
  "nbformat_minor": 0
}