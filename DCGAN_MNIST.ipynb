{
  "cells": [
    {
      "cell_type": "code",
      "execution_count": null,
      "metadata": {
        "id": "lRwEKQPCkP3V"
      },
      "outputs": [],
      "source": [
        "import numpy as np\n",
        "import matplotlib.pyplot as plt\n",
        "from tqdm import tqdm\n",
        "from tensorflow.keras.models import Sequential, Model\n",
        "from tensorflow.keras.layers import Conv2DTranspose, Conv2D, Dense, LeakyReLU, Dropout, BatchNormalization, Input, Reshape, Flatten\n",
        "from tensorflow.keras.optimizers import Adam\n",
        "from tensorflow.keras.datasets import mnist"
      ]
    },
    {
      "cell_type": "code",
      "execution_count": null,
      "metadata": {
        "colab": {
          "base_uri": "https://localhost:8080/"
        },
        "id": "DjQWXpV8k_R2",
        "outputId": "6664679a-144f-4672-934b-528ef7a202eb"
      },
      "outputs": [
        {
          "name": "stdout",
          "output_type": "stream",
          "text": [
            "Downloading data from https://storage.googleapis.com/tensorflow/tf-keras-datasets/mnist.npz\n",
            "11490434/11490434 [==============================] - 0s 0us/step\n"
          ]
        }
      ],
      "source": [
        "(x_train, _), (_, _) = mnist.load_data()\n",
        "x_train = x_train.astype(np.float32) / 255\n",
        "x_train = x_train.reshape((-1, 28, 28, 1))"
      ]
    },
    {
      "cell_type": "code",
      "execution_count": null,
      "metadata": {
        "id": "Z_xvcWeHl-j0"
      },
      "outputs": [],
      "source": [
        "generator = Sequential()\n",
        "\n",
        "generator.add(Input(shape=(100, )))\n",
        "generator.add(Dense(7*7*128))\n",
        "generator.add(Reshape((7, 7, 128)))\n",
        "generator.add(Conv2DTranspose(filters=128, kernel_size=4, strides=2, padding=\"same\"))\n",
        "generator.add(LeakyReLU(0.2))\n",
        "generator.add(Conv2DTranspose(filters=256, kernel_size=4, strides=2, padding=\"same\"))\n",
        "generator.add(LeakyReLU(0.2))\n",
        "generator.add(Conv2DTranspose(filters=512, kernel_size=4, strides=2, padding=\"same\"))\n",
        "generator.add(LeakyReLU(0.2))\n",
        "generator.add(Conv2D(filters=1, kernel_size=5, strides=2, padding=\"same\", activation=\"sigmoid\"))\n",
        "\n",
        "generator.compile(optimizer=Adam(0.001, 0.5), loss=\"binary_crossentropy\", metrics=[\"accuracy\"])"
      ]
    },
    {
      "cell_type": "code",
      "execution_count": null,
      "metadata": {
        "id": "zQ99cukMmBPH"
      },
      "outputs": [],
      "source": [
        "descriminator = Sequential()\n",
        "\n",
        "descriminator.add(Input(shape=(28, 28, 1)))\n",
        "descriminator.add(Conv2D(filters=64, kernel_size=4, strides=2, padding=\"same\"))\n",
        "descriminator.add(LeakyReLU(0.2))\n",
        "descriminator.add(Conv2D(filters=128, kernel_size=4, strides=2, padding=\"same\"))\n",
        "descriminator.add(LeakyReLU(0.2))\n",
        "descriminator.add(Conv2D(filters=128, kernel_size=4, strides=2, padding=\"same\"))\n",
        "descriminator.add(LeakyReLU(0.2))\n",
        "descriminator.add(Flatten())\n",
        "descriminator.add(Dropout(0.2))\n",
        "descriminator.add(Dense(1, activation=\"sigmoid\"))\n",
        "\n",
        "descriminator.compile(optimizer=Adam(0.001, 0.5), loss=\"binary_crossentropy\", metrics=[\"accuracy\"])"
      ]
    },
    {
      "cell_type": "code",
      "execution_count": null,
      "metadata": {
        "id": "OdaGHyK7obIJ"
      },
      "outputs": [],
      "source": [
        "descriminator.trainable = False\n",
        "gan_input = Input(shape=(100,))\n",
        "x = generator(gan_input)\n",
        "gan_output = descriminator(x)\n",
        "\n",
        "gan = Model(inputs=gan_input, outputs=gan_output)\n",
        "gan.compile(optimizer=Adam(0.001), loss=\"binary_crossentropy\", metrics=[\"accuracy\"])"
      ]
    },
    {
      "cell_type": "code",
      "execution_count": null,
      "metadata": {
        "colab": {
          "background_save": true,
          "base_uri": "https://localhost:8080/"
        },
        "id": "ipKAXeq1qfni",
        "outputId": "2134fee9-62bc-48b1-c338-03c525fda7b8"
      },
      "outputs": [
        {
          "name": "stderr",
          "output_type": "stream",
          "text": [
            "\r  0%|          | 0/300 [00:00<?, ?it/s]"
          ]
        }
      ],
      "source": [
        "epochs = 300\n",
        "sample_size = 128\n",
        "\n",
        "for e in tqdm(range(epochs)):\n",
        "\n",
        "  z = np.random.normal(size=(sample_size, 100))\n",
        "  gen_img = generator.predict(z, verbose=0)\n",
        "  x_rand = x_train[np.random.randint(0, x_train.shape[0], size=(128,))]\n",
        "\n",
        "  sample_x = np.concatenate([gen_img, x_rand])\n",
        "  sample_y = np.zeros(2*sample_size)\n",
        "  sample_y[sample_size:] += 0.95\n",
        "\n",
        "  descriminator.trainable = True\n",
        "  descriminator.fit(sample_x, sample_y, epochs=1, verbose=0)\n",
        "\n",
        "  descriminator.trainable = False\n",
        "\n",
        "  x_gen = np.random.normal(size=(sample_size, 100))\n",
        "  y_gen = np.ones(sample_size)\n",
        "\n",
        "  gan.fit(x_gen, y_gen, epochs=1, verbose=0)"
      ]
    },
    {
      "cell_type": "code",
      "execution_count": null,
      "metadata": {
        "colab": {
          "base_uri": "https://localhost:8080/"
        },
        "id": "GxRHhq4DstV8",
        "outputId": "7c49eedd-8411-4e9e-dba4-263c41a2b0d7"
      },
      "outputs": [
        {
          "name": "stdout",
          "output_type": "stream",
          "text": [
            "1/1 [==============================] - 0s 83ms/step\n"
          ]
        }
      ],
      "source": [
        "z_test = np.random.normal(size=(10, 100))\n",
        "imgs = generator.predict(z_test)"
      ]
    },
    {
      "cell_type": "code",
      "execution_count": null,
      "metadata": {
        "colab": {
          "base_uri": "https://localhost:8080/",
          "height": 249
        },
        "id": "xtJlQw-Hvtuo",
        "outputId": "2ddb3fdb-dc49-4478-f79a-c14822da8a38"
      },
      "outputs": [
        {
          "data": {
            "image/png": "[encoded data removed]",
            "text/plain": [
              "<Figure size 720x288 with 10 Axes>"
            ]
          },
          "metadata": {},
          "output_type": "display_data"
        }
      ],
      "source": [
        "fig = plt.figure(figsize=(10, 4))\n",
        "for i in range(10):\n",
        "  ax = fig.add_subplot(2, 5, i+1, xticks=[], yticks=[])\n",
        "  ax.imshow(imgs[i].reshape((28, 28, 1)), cmap=\"gray\")"
      ]
    },
    {
      "cell_type": "code",
      "execution_count": null,
      "metadata": {
        "colab": {
          "base_uri": "https://localhost:8080/"
        },
        "id": "U9qge-0QvtrY",
        "outputId": "8c52b696-52b3-40d6-d0ea-e4d6bde23ef3"
      },
      "outputs": [
        {
          "name": "stdout",
          "output_type": "stream",
          "text": [
            "Model: \"sequential_31\"\n",
            "_________________________________________________________________\n",
            " Layer (type)                Output Shape              Param #   \n",
            "=================================================================\n",
            " dense_29 (Dense)            (None, 1152)              116352    \n",
            "                                                                 \n",
            " reshape_16 (Reshape)        (None, 3, 3, 128)         0         \n",
            "                                                                 \n",
            " conv2d_transpose_36 (Conv2D  (None, 6, 6, 16)         32784     \n",
            " Transpose)                                                      \n",
            "                                                                 \n",
            " leaky_re_lu_36 (LeakyReLU)  (None, 6, 6, 16)          0         \n",
            "                                                                 \n",
            " conv2d_transpose_37 (Conv2D  (None, 12, 12, 32)       8224      \n",
            " Transpose)                                                      \n",
            "                                                                 \n",
            " leaky_re_lu_37 (LeakyReLU)  (None, 12, 12, 32)        0         \n",
            "                                                                 \n",
            " conv2d_transpose_38 (Conv2D  (None, 24, 24, 64)       32832     \n",
            " Transpose)                                                      \n",
            "                                                                 \n",
            " leaky_re_lu_38 (LeakyReLU)  (None, 24, 24, 64)        0         \n",
            "                                                                 \n",
            " conv2d_47 (Conv2D)          (None, 24, 24, 1)         3137      \n",
            "                                                                 \n",
            "=================================================================\n",
            "Total params: 193,329\n",
            "Trainable params: 193,329\n",
            "Non-trainable params: 0\n",
            "_________________________________________________________________\n"
          ]
        }
      ],
      "source": [
        "generator.summary()"
      ]
    },
    {
      "cell_type": "code",
      "execution_count": null,
      "metadata": {
        "id": "XO3KMls4vtpf"
      },
      "outputs": [],
      "source": []
    },
    {
      "cell_type": "code",
      "execution_count": null,
      "metadata": {
        "id": "PFk5B1i9vtl2"
      },
      "outputs": [],
      "source": []
    },
    {
      "cell_type": "code",
      "execution_count": null,
      "metadata": {
        "id": "r0P8SrayvtkA"
      },
      "outputs": [],
      "source": []
    },
    {
      "cell_type": "code",
      "execution_count": null,
      "metadata": {
        "id": "8eZFIKo4vtg9"
      },
      "outputs": [],
      "source": []
    },
    {
      "cell_type": "code",
      "execution_count": null,
      "metadata": {
        "id": "wBMQ-9WCvtef"
      },
      "outputs": [],
      "source": []
    },
    {
      "cell_type": "code",
      "execution_count": null,
      "metadata": {
        "id": "32oZMKjhvtbB"
      },
      "outputs": [],
      "source": []
    },
    {
      "cell_type": "code",
      "execution_count": null,
      "metadata": {
        "id": "cAOgg4eKvtWm"
      },
      "outputs": [],
      "source": []
    },
    {
      "cell_type": "code",
      "execution_count": null,
      "metadata": {
        "id": "I5D7kIOGvtSv"
      },
      "outputs": [],
      "source": []
    },
    {
      "cell_type": "code",
      "execution_count": null,
      "metadata": {
        "id": "gTDPdc3DvtIY"
      },
      "outputs": [],
      "source": []
    }
  ],
  "metadata": {
    "accelerator": "GPU",
    "colab": {
      "provenance": []
    },
    "gpuClass": "standard",
    "kernelspec": {
      "display_name": "Python 3",
      "name": "python3"
    },
    "language_info": {
      "name": "python"
    }
  },
  "nbformat": 4,
  "nbformat_minor": 0
}