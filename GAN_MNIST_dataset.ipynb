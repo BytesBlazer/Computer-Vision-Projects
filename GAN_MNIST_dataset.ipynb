{
  "cells": [
    {
      "cell_type": "markdown",
      "metadata": {
        "id": "VODXniYCmnqx"
      },
      "source": [
        "## Importing necessory libraries"
      ]
    },
    {
      "cell_type": "code",
      "execution_count": null,
      "metadata": {
        "id": "4Y17tnP2M-Xc"
      },
      "outputs": [],
      "source": [
        "import numpy as np\n",
        "import tqdm\n",
        "import matplotlib.pyplot as plt\n",
        "from tensorflow.keras.models import Sequential, Model\n",
        "from tensorflow.keras.layers import Dense, Input, LeakyReLU, Dropout\n",
        "from tensorflow.keras.optimizers import Adam\n",
        "from tensorflow.keras.datasets import mnist"
      ]
    },
    {
      "cell_type": "markdown",
      "metadata": {
        "id": "7hN6gY-Sm30N"
      },
      "source": [
        "## **Loading the data, normalizing and rescaling**"
      ]
    },
    {
      "cell_type": "code",
      "execution_count": null,
      "metadata": {
        "colab": {
          "base_uri": "https://localhost:8080/"
        },
        "id": "wX3DKCmPkj3S",
        "outputId": "0c279aa4-3c4e-4589-a63e-6d5656dc73dd"
      },
      "outputs": [
        {
          "name": "stdout",
          "output_type": "stream",
          "text": [
            "Downloading data from https://storage.googleapis.com/tensorflow/tf-keras-datasets/mnist.npz\n",
            "11490434/11490434 [==============================] - 2s 0us/step\n"
          ]
        }
      ],
      "source": [
        "(x_train, _), (_, _) = mnist.load_data()\n",
        "x_train = (x_train.astype(\"float32\") - 127.5) / 127.5\n",
        "x_train = x_train.reshape((-1, 784))"
      ]
    },
    {
      "cell_type": "markdown",
      "metadata": {
        "id": "6wW-D2junZrL"
      },
      "source": [
        "## **Generator model**"
      ]
    },
    {
      "cell_type": "code",
      "execution_count": null,
      "metadata": {
        "id": "WcasQeNCTsG7"
      },
      "outputs": [],
      "source": [
        "generator = Sequential()\n",
        "\n",
        "generator.add(Dense(units=256, input_dim=100))\n",
        "generator.add(LeakyReLU(0.2))\n",
        "\n",
        "generator.add(Dense(units=512))\n",
        "generator.add(LeakyReLU(0.2))\n",
        "\n",
        "generator.add(Dense(units=512))\n",
        "generator.add(LeakyReLU(0.2))\n",
        "\n",
        "generator.add(Dense(units=784, activation=\"tanh\"))\n",
        "\n",
        "\n",
        "generator.compile(optimizer=Adam(learning_rate=0.001, beta_1=0.5),\n",
        "                  loss=\"binary_crossentropy\",\n",
        "                  metrics=[\"accuracy\"])"
      ]
    },
    {
      "cell_type": "markdown",
      "metadata": {
        "id": "KAhqHV6yoG3a"
      },
      "source": [
        "## **Descriminator model**"
      ]
    },
    {
      "cell_type": "code",
      "execution_count": null,
      "metadata": {
        "id": "ub44ilG7k1Sk"
      },
      "outputs": [],
      "source": [
        "descriminator = Sequential()\n",
        "\n",
        "descriminator.add(Dense(units=1024, input_dim=784))\n",
        "descriminator.add(LeakyReLU(0.2))\n",
        "descriminator.add(Dropout(0.2))\n",
        "\n",
        "descriminator.add(Dense(units=512))\n",
        "descriminator.add(LeakyReLU(0.2))\n",
        "descriminator.add(Dropout(0.2))\n",
        "\n",
        "descriminator.add(Dense(units=256))\n",
        "descriminator.add(LeakyReLU(0.2))\n",
        "descriminator.add(Dropout(0.2))\n",
        "\n",
        "descriminator.add(Dense(units=128))\n",
        "descriminator.add(LeakyReLU(0.2))\n",
        "descriminator.add(Dropout(0.2))\n",
        "\n",
        "descriminator.add(Dense(units=1, activation=\"sigmoid\"))\n",
        "\n",
        "descriminator.compile(optimizer=Adam(learning_rate=0.001, beta_1=0.5),\n",
        "                      loss=\"binary_crossentropy\",\n",
        "                      metrics=[\"accuracy\"])"
      ]
    },
    {
      "cell_type": "markdown",
      "metadata": {
        "id": "mkx1FZ3_sogI"
      },
      "source": [
        "## **Building GAN**"
      ]
    },
    {
      "cell_type": "code",
      "execution_count": null,
      "metadata": {
        "id": "dUcX4qkEk2V3"
      },
      "outputs": [],
      "source": [
        "descriminator.trainable = False\n",
        "\n",
        "gan_input = Input(shape=(100,))\n",
        "x = generator(gan_input)\n",
        "gan_output = descriminator(x)\n",
        "\n",
        "gan = Model(inputs=gan_input, outputs=gan_output)\n",
        "\n",
        "gan.compile(optimizer=Adam(),\n",
        "            loss=\"binary_crossentropy\",\n",
        "            metrics=[\"accuracy\"])"
      ]
    },
    {
      "cell_type": "code",
      "execution_count": null,
      "metadata": {
        "colab": {
          "background_save": true,
          "base_uri": "https://localhost:8080/"
        },
        "id": "kk_rROdzk2PM",
        "outputId": "d344b47e-cbf5-4ecf-8049-702dc5a114b2"
      },
      "outputs": [
        {
          "name": "stderr",
          "output_type": "stream",
          "text": [
            "100%|██████████| 1000/1000 [03:06<00:00,  5.37it/s]\n"
          ]
        }
      ],
      "source": [
        "epochs = 1000\n",
        "sample_size = 32\n",
        "\n",
        "for e in tqdm.tqdm(range(epochs)):\n",
        "\n",
        "  z = np.random.normal(size=(sample_size, 100))\n",
        "\n",
        "  gen_img = generator.predict(z, verbose=0)\n",
        "  x_rand = x_train[np.random.randint(0, x_train.shape[0], size=(sample_size,))]\n",
        "\n",
        "  sample_x = np.concatenate([gen_img, x_rand])\n",
        "  sample_y = np.zeros(2*sample_size)\n",
        "  sample_y[sample_size:] += 0.9\n",
        "\n",
        "  descriminator.trainable = True\n",
        "  descriminator.fit(sample_x, sample_y, verbose=0)\n",
        "\n",
        "  descriminator.trainable = False\n",
        "\n",
        "  x_gen = np.random.normal(size=(sample_size, 100))\n",
        "  y_gen = np.ones(sample_size)\n",
        "\n",
        "  gan.fit(x_gen, y_gen, verbose=0)"
      ]
    },
    {
      "cell_type": "code",
      "execution_count": null,
      "metadata": {
        "colab": {
          "background_save": true
        },
        "id": "BpFO6n6hk2Hf",
        "outputId": "6a46f95e-49ed-43d5-ace4-fec10092ecc2"
      },
      "outputs": [
        {
          "name": "stdout",
          "output_type": "stream",
          "text": [
            "1/1 [==============================] - 0s 58ms/step\n"
          ]
        }
      ],
      "source": [
        "z_test = np.random.normal(size=(10, 100))\n",
        "imgs = generator.predict(z_test)"
      ]
    },
    {
      "cell_type": "code",
      "execution_count": null,
      "metadata": {
        "colab": {
          "background_save": true
        },
        "id": "e5yatv5uk1_c",
        "outputId": "f52b3161-4a43-48a8-ecab-2d080ac73584"
      },
      "outputs": [
        {
          "data": {
            "image/png": "[encoded data removed]",
            "text/plain": [
              "<Figure size 720x288 with 10 Axes>"
            ]
          },
          "metadata": {},
          "output_type": "display_data"
        }
      ],
      "source": [
        "fig = plt.figure(figsize=(10, 4))\n",
        "for i in range(10):\n",
        "  ax = fig.add_subplot(2, 5, i+1, xticks=[], yticks=[])\n",
        "  ax.imshow(imgs[i].reshape((28, 28, 1)), cmap=\"gray\")"
      ]
    }
  ],
  "metadata": {
    "accelerator": "GPU",
    "colab": {
      "provenance": []
    },
    "gpuClass": "standard",
    "kernelspec": {
      "display_name": "Python 3",
      "name": "python3"
    },
    "language_info": {
      "name": "python"
    }
  },
  "nbformat": 4,
  "nbformat_minor": 0
}